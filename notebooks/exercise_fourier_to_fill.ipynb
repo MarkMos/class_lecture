{
 "cells": [
  {
   "cell_type": "markdown",
   "id": "edc36bf4",
   "metadata": {},
   "source": [
    "# Classy Fourier module\n",
    "\n",
    "First, import the packages as usual"
   ]
  },
  {
   "cell_type": "code",
   "execution_count": null,
   "id": "a955d523",
   "metadata": {},
   "outputs": [],
   "source": [
    "import numpy as np\n",
    "import matplotlib.pyplot as plt\n",
    "from classy import Class\n",
    "\n",
    "plt.rcParams.update({\n",
    "    \"text.usetex\": True,\n",
    "    \"font.family\": \"serif\",\n",
    "})\n"
   ]
  },
  {
   "cell_type": "markdown",
   "id": "9d7c91a3",
   "metadata": {},
   "source": [
    "Once again, we are going to need to ask for a specific output.\n",
    "\n",
    "In addition to the standard linear matter power spectrum, CLASS can also provide the non-linear power spectrum computed with either HMcode or Halofit, relying on the halo model of large scale structure.\n",
    "\n",
    "Let's compare the HMcode and Halofit predictions."
   ]
  },
  {
   "cell_type": "code",
   "execution_count": null,
   "id": "d93cba6c",
   "metadata": {},
   "outputs": [],
   "source": [
    "cosmo_hm = Class()\n",
    "cosmo_hm.set({'perturbations_verbose':1,\n",
    "           'non_linear':'hmcode',\n",
    "           'output':'mPk'})\n",
    "\n",
    "cosmo_hf = Class()\n",
    "cosmo_hf.set({'perturbations_verbose':1,\n",
    "           'non_linear':'halofit',\n",
    "           'output':'mPk'})"
   ]
  },
  {
   "cell_type": "markdown",
   "id": "13884751",
   "metadata": {},
   "source": [
    "Let's now define a k array for the power spectrum, and extract it for plotting."
   ]
  },
  {
   "cell_type": "code",
   "execution_count": null,
   "id": "de7b021a",
   "metadata": {},
   "outputs": [],
   "source": [
    "k = np.geomspace(10**-4,1)\n",
    "z = 0\n",
    "\n",
    "Pk_lin = cosmo_hm.get_pk_all(k,z, nonlinear=False)\n",
    "Pk_HMcode = cosmo_hm.get_pk_all(k,z, nonlinear=True)\n",
    "# Pk_halofit = \n"
   ]
  },
  {
   "cell_type": "markdown",
   "id": "0119f3e8",
   "metadata": {},
   "source": [
    "Now let us do a basic plot comparint the linear and non-linear matter power spectra."
   ]
  },
  {
   "cell_type": "code",
   "execution_count": null,
   "id": "de46b1f9",
   "metadata": {},
   "outputs": [],
   "source": [
    "plt.loglog(k,Pk_lin, 'k', label='Linear')\n",
    "plt.loglog(k,Pk_HMcode, 'r--',label='Non-linear (HMcode)')\n",
    "# plt.loglog(k,Pk_halofit, 'b-.',label='Non-linear (halofit)')\n",
    "\n",
    "plt.xlabel('$k$ [Mpc$^{-1}]$')\n",
    "plt.ylabel('$P(k)$ [Mpc$^{3}]$')\n",
    "\n",
    "plt.legend()\n",
    "\n"
   ]
  },
  {
   "cell_type": "markdown",
   "id": "641194c7",
   "metadata": {},
   "source": [
    "Here, the non-linear predictions clearly show the expected enhanced structure on small scales, with only a small difference between the implementations.\n",
    "\n",
    "Let's examine just how small the difference is."
   ]
  },
  {
   "cell_type": "code",
   "execution_count": null,
   "id": "d9055fe6",
   "metadata": {},
   "outputs": [],
   "source": [
    "plt.axhline(0,color='0.5',linestyle=':')\n",
    "\n",
    "# plt.semilogx(k,Pk_halofit/Pk_HMcode -1, 'r',label='Non-linear (HMcode)')\n",
    "\n",
    "\n",
    "plt.xlabel('$k$ [Mpc$^{-1}]$')\n",
    "plt.ylabel('$\\\\Delta P(k) / P_{\\\\tt HMcode}(k)$')\n",
    "# plt.loglog(k,Pk_halofit, 'b-.',label='Non-linear (halofit)')"
   ]
  },
  {
   "cell_type": "markdown",
   "id": "fdf41dfe",
   "metadata": {},
   "source": [
    "So while it does not look like much,it is still on the scale of several percent - which could matter for precision cosmology!\n",
    "\n",
    "For example, let us return to our massive neutrino cosmology to look at the impact of neutrino masses."
   ]
  },
  {
   "cell_type": "code",
   "execution_count": null,
   "id": "2f47149a",
   "metadata": {},
   "outputs": [],
   "source": [
    "cosmo_mnu = Class()\n",
    "cosmo_mnu.set({'N_ncdm':1, \n",
    "               'm_ncdm':0.1, \n",
    "               'Neff':3.044,\n",
    "               'non_linear':'hmcode',\n",
    "               'output':'mPk'})\n",
    "\n",
    "# Pk_mnu_lin = \n",
    "# Pk_mnu_HMcode = "
   ]
  },
  {
   "cell_type": "markdown",
   "id": "9192d9cf",
   "metadata": {},
   "source": [
    "For good measure, let's confirm that these cosmologies have the same $N_{eff}$. Let's call it the same if they agree to $`0^{10}$ precision."
   ]
  },
  {
   "cell_type": "code",
   "execution_count": null,
   "id": "336b6fab",
   "metadata": {},
   "outputs": [],
   "source": [
    "(cosmo_hm.Neff()-cosmo_mnu.Neff()) < 1e-10"
   ]
  },
  {
   "cell_type": "markdown",
   "id": "f2aedb5f",
   "metadata": {},
   "source": [
    "Let's compare the linear and non-linear power spectra then:"
   ]
  },
  {
   "cell_type": "code",
   "execution_count": null,
   "id": "ab4aa033",
   "metadata": {},
   "outputs": [],
   "source": [
    "plt.loglog(k,Pk_lin, 'k', label='Linear $M_\\\\nu = 0$')\n",
    "plt.loglog(k,Pk_HMcode, 'k--',label='Non-linear $M_\\\\nu = 0$')\n",
    "\n",
    "# plt.loglog(k,Pk_mnu_lin,'r', label='Linear $M_\\\\nu = 0.1$ eV')\n",
    "# plt.loglog(k,Pk_mnu_HMcode, 'r--',label='Non-linear $M_\\\\nu = 0.1$ eV')\n",
    "\n",
    "plt.xlabel('$k$ [Mpc$^{-1}]$')\n",
    "plt.ylabel('$P(k)$ [Mpc$^{3}]$')\n",
    "plt.legend()"
   ]
  },
  {
   "cell_type": "markdown",
   "id": "0888349b",
   "metadata": {},
   "source": [
    "Once again a small shift, but large enough to notice, let's look at the ratios:"
   ]
  },
  {
   "cell_type": "code",
   "execution_count": null,
   "id": "e555c253",
   "metadata": {},
   "outputs": [],
   "source": [
    "plt.axhline(0,color='0.5',linestyle=':')\n",
    "\n",
    "# plt.semilogx(k,Pk_mnu_lin/Pk_lin-1,'k', label='Linear')\n",
    "# plt.semilogx(k,Pk_mnu_HMcode/Pk_HMcode-1, 'r--',label='Non-linear')\n",
    "\n",
    "plt.xlabel('$k$ [Mpc$^{-1}]$')\n",
    "plt.ylabel('$\\\\Delta P(k) / P_{M_\\\\nu = 0}(k)$')\n",
    "\n",
    "plt.legend()"
   ]
  },
  {
   "cell_type": "markdown",
   "id": "909f6e29",
   "metadata": {},
   "source": [
    "So the effect of adding a (relatively large!) neutrino mass is on the same scale as the difference between different non-linear implementations. It therefore important to ensure you are using the correct non-linear treatment.\n",
    "\n",
    "Currently, HMcode2020 is the most up to date treatment included in CLASS, and has its own set of parameters to e.g. account for baryonic feedback."
   ]
  },
  {
   "cell_type": "markdown",
   "id": "51f744e8",
   "metadata": {},
   "source": [
    "When investigating massive neutrino cosmologies, sometime also wishes to have the power spectrum of clustering matter (cdm+baryons) only. This can also be extracted using the same function by using the `cdmbar` keyword argument."
   ]
  },
  {
   "cell_type": "code",
   "execution_count": null,
   "id": "eef82699",
   "metadata": {},
   "outputs": [],
   "source": [
    "Pk_cb_mnu_lin = cosmo_mnu.get_pk_all(k,z, nonlinear=False,cdmbar=True)\n",
    "# Pk_cb_mnu_HMcode = "
   ]
  },
  {
   "cell_type": "code",
   "execution_count": null,
   "id": "910a9945",
   "metadata": {},
   "outputs": [],
   "source": [
    "plt.axhline(0,color='0.5',linestyle=':')\n",
    "\n",
    "# plt.semilogx(k,Pk_mnu_lin/Pk_cb_mnu_lin-1,'k', label='Linear')\n",
    "# plt.semilogx(k,Pk_mnu_HMcode/Pk_cb_mnu_HMcode-1, 'r--',label='Non-linear')\n",
    "\n",
    "plt.xlabel('$k$ [Mpc$^{-1}]$')\n",
    "plt.ylabel('$\\\\Delta P_m (k) / P_{cb}(k) - 1$')\n"
   ]
  },
  {
   "cell_type": "markdown",
   "id": "56728378",
   "metadata": {},
   "source": [
    "As the total matter power spectrum also includes the neutrinos which do not cluster as cold matter below their free streaming scale, it is suppressed at small scales compared to the clustering matter spectrum.\n",
    "\n",
    "Finally, let us also look at how the interacting dark matter model affects the matter power spectrum. As the non-linear prescriptions are calibrated with CDM simulations, they are not necessarily reliable for exotic DM models. We therefore only use the linear power spectrum here."
   ]
  },
  {
   "cell_type": "code",
   "execution_count": null,
   "id": "2025307a",
   "metadata": {},
   "outputs": [],
   "source": [
    "cosmo_int = Class()\n",
    "cosmo_int.set({'f_idm':0.9, \n",
    "               'm_idm':1e6, \n",
    "               'cross_idm_b':1e-40, \n",
    "               'n_index_idm_b': -4,\n",
    "               'output':'mPk'})\n",
    "\n",
    "# Pk_int_lin = "
   ]
  },
  {
   "cell_type": "code",
   "execution_count": null,
   "id": "607a6246",
   "metadata": {},
   "outputs": [],
   "source": [
    "plt.loglog(k,Pk_lin, 'k', label='Linear (CDM)')\n",
    "\n",
    "# plt.loglog(k,Pk_int_lin,'--r', label='Linear (IDM)')\n",
    "\n",
    "plt.xlabel('$k$ [Mpc$^{-1}]$')\n",
    "plt.ylabel('$P(k)$ [Mpc$^{3}]$')\n",
    "plt.legend()"
   ]
  },
  {
   "cell_type": "markdown",
   "id": "6eeea61b",
   "metadata": {},
   "source": [
    "Which visibly has a much larger impact than neutrinos.\n",
    "\n",
    "Let's look at the ratio as well"
   ]
  },
  {
   "cell_type": "code",
   "execution_count": null,
   "id": "95590641",
   "metadata": {},
   "outputs": [],
   "source": [
    "plt.axhline(0,color='0.5',linestyle=':')\n",
    "\n",
    "# plt.semilogx(k,Pk_int_lin/Pk_lin-1,'k')\n",
    "\n",
    "plt.xlabel('$k$ [Mpc$^{-1}]$')\n",
    "plt.ylabel('$\\\\Delta P(k) / P_{\\\\Lambda CDM}(k)$')\n",
    "\n",
    "plt.legend()"
   ]
  },
  {
   "cell_type": "markdown",
   "id": "c814e1bb",
   "metadata": {},
   "source": [
    "We get a ~40% reduction in linear power on scales k~1/Mpc"
   ]
  }
 ],
 "metadata": {
  "kernelspec": {
   "display_name": "classy_clean",
   "language": "python",
   "name": "python3"
  },
  "language_info": {
   "codemirror_mode": {
    "name": "ipython",
    "version": 3
   },
   "file_extension": ".py",
   "mimetype": "text/x-python",
   "name": "python",
   "nbconvert_exporter": "python",
   "pygments_lexer": "ipython3",
   "version": "3.12.11"
  }
 },
 "nbformat": 4,
 "nbformat_minor": 5
}
