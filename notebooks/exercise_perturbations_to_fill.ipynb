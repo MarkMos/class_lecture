{
 "cells": [
  {
   "cell_type": "markdown",
   "id": "50b31467",
   "metadata": {},
   "source": [
    "# Classy perturbations module\n",
    "\n",
    "Start by importing packages to use"
   ]
  },
  {
   "cell_type": "code",
   "execution_count": null,
   "id": "38afcd03",
   "metadata": {},
   "outputs": [],
   "source": [
    "import numpy as np\n",
    "import matplotlib.pyplot as plt\n",
    "from scipy.interpolate import interp1d\n",
    "from classy import Class\n",
    "\n",
    "plt.rcParams.update({\n",
    "    \"text.usetex\": True,\n",
    "    \"font.family\": \"serif\",\n",
    "})\n"
   ]
  },
  {
   "cell_type": "markdown",
   "id": "36975878",
   "metadata": {},
   "source": [
    "Let's once again run a default cosmology and this time get the perturbations array.\n",
    "\n",
    "This time, we need to ask for a type of output that requires the perturbations module to be run, as it will otherwise be skipped to avoid unnecessary computation. We can use anything that requires the 'source functions' to be computed, so let us just pick the matter power spectrum.\n",
    "\n",
    "To obtain a perturbations array, you must also pass the $k$ values (in 1/Mpc) you want. A single value can be passed as a float, while multiple values must be passed as a comma-delimeted string.\n",
    "\n",
    "The perturbations structure is a dict containing the data for scalar, vector, and tensor perturbations separately. Let us limit ourselves to scalar for now."
   ]
  },
  {
   "cell_type": "code",
   "execution_count": null,
   "id": "13b6e738",
   "metadata": {},
   "outputs": [],
   "source": [
    "cosmo = Class()\n",
    "cosmo.set({'perturbations_verbose':1,\n",
    "           'k_output_values':'0.1,0.5,1',\n",
    "           'output':'mPk'})\n",
    "pt_all = cosmo.get_perturbations()['scalar']\n",
    "\n",
    "bg = cosmo.get_background()"
   ]
  },
  {
   "cell_type": "markdown",
   "id": "9a9559b9",
   "metadata": {},
   "source": [
    "We can now see that the `pt_all` object is a list containing three entries - each of these is a dictionary of the source functions for one of the provided $k$ value, in the order we provided.\n",
    "\n",
    "Let us define dictionaries for each of the three for convenience, and as usual, let's print the keys of one of these to see all the results we have access to."
   ]
  },
  {
   "cell_type": "code",
   "execution_count": null,
   "id": "e68cf27d",
   "metadata": {},
   "outputs": [],
   "source": [
    "pt_01 = pt_all[0]\n",
    "pt_05 = pt_all[1]\n",
    "pt_1  = pt_all[2]\n",
    "\n",
    "print(pt_01.keys())"
   ]
  },
  {
   "cell_type": "markdown",
   "id": "3933ae88",
   "metadata": {},
   "source": [
    "Just for illustration purposes, we wil define a function to find the Hubble crossing time (scale factor) of a given scale, as well as the scale factor of recombination."
   ]
  },
  {
   "cell_type": "code",
   "execution_count": null,
   "id": "d53150f7",
   "metadata": {},
   "outputs": [],
   "source": [
    "Hubble_scale = 2*np.pi*bg['H [1/Mpc]']/(1+bg['z'])\n",
    "a_of_hubble_scale = interp1d(Hubble_scale,1./(bg['z']+1))\n",
    "\n",
    "a_rec = 1./(1+ cosmo.get_current_derived_parameters(['z_rec'])['z_rec'] )"
   ]
  },
  {
   "cell_type": "markdown",
   "id": "2f2b14d1",
   "metadata": {},
   "source": [
    "Let's plot a photon, dark matter, and baryon density perturbation for the same scale $k$. Note that the definition of the perturbations in Class includes a minus sign. Some perturbations experience oscillations (such as the famous baryon acoustic oscillations), so let us plot the absolute values.\n",
    "\n",
    "Note that photons are denoted with `_g` for 'gamma'."
   ]
  },
  {
   "cell_type": "code",
   "execution_count": null,
   "id": "4f74aa6a",
   "metadata": {},
   "outputs": [],
   "source": [
    "a_01 = pt_01['a']\n",
    "tau_01 = pt_01['tau [Mpc]']\n",
    "\n",
    "delta_b_01 = pt_01['delta_b']\n",
    "# delta_g_01 = \n",
    "# delta_cdm_01 = \n",
    "\n",
    "fig, ax1 = plt.subplots()\n",
    "\n",
    "ax1.loglog(a_01,abs(delta_b_01),'r',label='Baryons')\n",
    "# ax1.loglog(a_01,abs(delta_g_01),'b',label='Photons')\n",
    "# ax1.loglog(a_01,abs(delta_cdm_01),'k',label='CDM')\n",
    "\n",
    "Hubble_crossing_01 = a_of_hubble_scale(0.1)\n",
    "\n",
    "ax1.axvline(Hubble_crossing_01,linestyle='--',color='0.5',label='Hubble crossing')\n",
    "ax1.axvline(a_rec,linestyle=':',color='0.5',label='Recombination')\n",
    "\n",
    "ax1.legend()\n",
    "ax1.text(2e-6,8e3,'$k=0.1$ Mpc$^{-1}$')\n",
    "\n",
    "ax1.set_xlim([a_01[0],a_01[-1]])\n",
    "\n",
    "\n",
    "\n",
    "\n",
    "ax2 = ax1.secondary_xaxis(location='top',functions=(lambda x: np.interp(x,a_01,tau_01),lambda x: np.interp(x,tau_01,a_01)))\n",
    "\n",
    "ax2.set_xticks([1,10,100,1000,1e4])\n",
    "ax2.set_xlabel('Conf. time [Mpc]')\n",
    "\n",
    "\n",
    "# ax1.axvline(a_of_hubble_scale(1),linestyle='--')\n",
    "# ax1.axvline(np.interp(10,tau_01,a_01))\n",
    "\n",
    "ax1.set_xlabel('Scale factor $a$')\n",
    "ax1.set_ylabel('$\\\\left|\\\\delta_{i}\\\\right|$')"
   ]
  },
  {
   "cell_type": "markdown",
   "id": "119fd123",
   "metadata": {},
   "source": [
    "It is clear that the dark matter perturbations start growing early, while the baryons stay coupled to the photons and the coupled fluid oscillates. At recombination the baryons are allowed to cluster, while the photons begin to free-stream.\n",
    "\n",
    "\n",
    "Let's now see how the length scale of the perturbations affect them."
   ]
  },
  {
   "cell_type": "code",
   "execution_count": null,
   "id": "099b1e94",
   "metadata": {},
   "outputs": [],
   "source": [
    "a_05 = pt_05['a']\n",
    "# delta_cdm_05 = \n",
    "\n",
    "# a_1 = \n",
    "# delta_cdm_1 = \n",
    "\n",
    "fig, ax1 = plt.subplots()\n",
    "\n",
    "# ax1.loglog(a_01,abs(delta_cdm_01),'0.8',label='$k=0.1$ Mpc$^{-1}$')\n",
    "# ax1.loglog(a_05,abs(delta_cdm_05),'0.5',label='$k=0.5$ Mpc$^{-1}$')\n",
    "# ax1.loglog(a_1,abs(delta_cdm_1),'0.3',label='$k=1$ Mpc$^{-1}$')\n",
    "\n",
    "# Hubble_crossing_05 =\n",
    "# Hubble_crossing_1 = \n",
    "\n",
    "ax1.axvline(Hubble_crossing_01,linestyle='--',color='0.8')\n",
    "# ax1.axvline(Hubble_crossing_05,linestyle='--',color='0.5')\n",
    "# ax1.axvline(Hubble_crossing_1,linestyle='--',color='0.3')\n",
    "\n",
    "ax1.text(2e-4,4e4,'Hubble crossings')\n",
    "\n",
    "# ax2 = ax1.secondary_xaxis(location='top',functions=(lambda x: np.interp(x,a_1,tau_1),lambda x: np.interp(x,tau_01,a_01)))\n",
    "\n",
    "ax2.set_xticks([1,10,100,1000,1e4])\n",
    "ax2.set_xlabel('Conf. time [Mpc]')\n",
    "\n",
    "# ax1.set_xlim([a_1[0],a_1[-1]])\n",
    "\n",
    "ax1.legend()\n",
    "\n",
    "\n",
    "ax1.set_xlabel('Scale factor $a$')\n",
    "ax1.set_ylabel('$\\\\left|\\\\delta_\\\\mathrm{cdm}\\\\right|$')\n"
   ]
  },
  {
   "cell_type": "markdown",
   "id": "b5099ace",
   "metadata": {},
   "source": [
    "It is clear that the smaller scale (larger $k$) dark matter perturbations which enter the horizon earlier have more time to grow, and thus end up at larger values."
   ]
  },
  {
   "cell_type": "markdown",
   "id": "4b714922",
   "metadata": {},
   "source": [
    "Let's now return to our interacting dark matter cosmology, but use a slightly larger cross-section."
   ]
  },
  {
   "cell_type": "code",
   "execution_count": null,
   "id": "8907d520",
   "metadata": {},
   "outputs": [],
   "source": [
    "cosmo_int = Class()\n",
    "cosmo_int.set({'f_idm':0.9, \n",
    "               'm_idm':1e6, \n",
    "               'cross_idm_b':1e-38, \n",
    "               'n_index_idm_b': -4,\n",
    "               'k_output_values':0.1,\n",
    "               'output':'mPk'\n",
    "               })\n",
    "pt_int = cosmo_int.get_perturbations()['scalar'][0]\n",
    "\n",
    "print(pt_int.keys())"
   ]
  },
  {
   "cell_type": "markdown",
   "id": "95c661f9",
   "metadata": {},
   "source": [
    "Now let's plot the interacting dark matter along with the standard $\\Lambda$ CDM dark matter."
   ]
  },
  {
   "cell_type": "code",
   "execution_count": null,
   "id": "eb87b4bf",
   "metadata": {},
   "outputs": [],
   "source": [
    "# a_int = \n",
    "# tau_int = \n",
    "\n",
    "# delta_b_int = \n",
    "# delta_g_int = \n",
    "# delta_idm_int = "
   ]
  },
  {
   "cell_type": "code",
   "execution_count": null,
   "id": "29d0a2ee",
   "metadata": {},
   "outputs": [],
   "source": [
    "fig, ax1 = plt.subplots()\n",
    "\n",
    "ax1.loglog(a_01,abs(delta_b_01),'r',label='Baryons ($\\\\Lambda$CDM)')\n",
    "\n",
    "# ax1.loglog(a_01,abs(delta_cdm_01),'k',label='CDM ($\\\\Lambda$CDM)')\n",
    "\n",
    "# ax1.loglog(a_int,abs(delta_b_int),'r--',label='Baryons (IDM)')\n",
    "\n",
    "# ax1.loglog(a_int,abs(delta_idm_int),'k--',label='IDM (IDM)')\n",
    "\n",
    "Hubble_crossing_01 = a_of_hubble_scale(0.1)\n",
    "\n",
    "ax1.axvline(Hubble_crossing_01,linestyle='--',color='0.5',label='Hubble crossing')\n",
    "ax1.axvline(a_rec,linestyle=':',color='0.5',label='Recombination')\n",
    "\n",
    "ax1.legend()\n",
    "ax1.text(2e-6,8e3,'$k=0.1$ Mpc$^{-1}$')\n",
    "\n",
    "ax1.set_xlim([a_01[0],a_01[-1]])\n",
    "\n",
    "\n",
    "\n",
    "\n",
    "ax2 = ax1.secondary_xaxis(location='top',functions=(lambda x: np.interp(x,a_01,tau_01),lambda x: np.interp(x,tau_01,a_01)))\n",
    "\n",
    "ax2.set_xticks([1,10,100,1000,1e4])\n",
    "ax2.set_xlabel('Conf. time [Mpc]')\n",
    "\n",
    "\n",
    "\n",
    "\n",
    "ax1.set_xlabel('Scale factor $a$')\n",
    "ax1.set_ylabel('$\\\\left|\\\\delta_{i}\\\\right|$')"
   ]
  },
  {
   "cell_type": "markdown",
   "id": "e733ddd0",
   "metadata": {},
   "source": [
    "Let's look at the $\\theta$ (velocity divercence) as well, as the scattering couples the species through the Euler equation."
   ]
  },
  {
   "cell_type": "code",
   "execution_count": null,
   "id": "97858dbf",
   "metadata": {},
   "outputs": [],
   "source": [
    "theta_b_01 = pt_01['theta_b']\n",
    "# theta_g_01 = \n",
    "# theta_cdm_01 = \n",
    "\n",
    "# theta_b_int = \n",
    "# theta_g_int = \n",
    "# theta_idm_int = "
   ]
  },
  {
   "cell_type": "code",
   "execution_count": null,
   "id": "099eb8c8",
   "metadata": {},
   "outputs": [],
   "source": [
    "fig, ax1 = plt.subplots()\n",
    "\n",
    "\n",
    "ax1.loglog(a_01,abs(theta_b_01),'r',label='Baryons ($\\\\Lambda$CDM)')\n",
    "# ax1.loglog(a_01,abs(theta_cdm_01),'k',label='CDM ($\\\\Lambda$CDM)')\n",
    "\n",
    "\n",
    "# ax1.loglog(a_int,abs(theta_b_int),'r--',label='Baryons (IDM)')\n",
    "# ax1.loglog(a_int,abs(theta_idm_int),'k--',label='IDM (IDM)')\n",
    "\n",
    "Hubble_crossing_01 = a_of_hubble_scale(0.1)\n",
    "\n",
    "ax1.axvline(Hubble_crossing_01,linestyle='--',color='0.5',label='Hubble crossing')\n",
    "ax1.axvline(a_rec,linestyle=':',color='0.5',label='Recombination')\n",
    "\n",
    "ax1.legend()\n",
    "ax1.text(2e-6,1,'$k=0.1$ Mpc$^{-1}$')\n",
    "\n",
    "ax1.set_xlim([a_01[0],a_01[-1]])\n",
    "\n",
    "ax1.set_ylim([1e-4,1.8])\n",
    "\n",
    "\n",
    "ax2 = ax1.secondary_xaxis(location='top',functions=(lambda x: np.interp(x,a_01,tau_01),lambda x: np.interp(x,tau_01,a_01)))\n",
    "\n",
    "ax2.set_xticks([1,10,100,1000,1e4])\n",
    "ax2.set_xlabel('Conf. time [Mpc]')\n",
    "\n",
    "\n",
    "\n",
    "\n",
    "ax1.set_xlabel('Scale factor $a$')\n",
    "ax1.set_ylabel('$\\\\left|\\\\theta_{i}\\\\right|$')"
   ]
  },
  {
   "cell_type": "markdown",
   "id": "c5c34987",
   "metadata": {},
   "source": [
    "It is clear here that the presence of interactions couples the dark matter to the baryons while the baryon-photon fluid is still oscillating, which suppresses the growth of structure in the dark sector."
   ]
  }
 ],
 "metadata": {
  "kernelspec": {
   "display_name": "classy_clean",
   "language": "python",
   "name": "python3"
  },
  "language_info": {
   "codemirror_mode": {
    "name": "ipython",
    "version": 3
   },
   "file_extension": ".py",
   "mimetype": "text/x-python",
   "name": "python",
   "nbconvert_exporter": "python",
   "pygments_lexer": "ipython3",
   "version": "3.12.11"
  }
 },
 "nbformat": 4,
 "nbformat_minor": 5
}
