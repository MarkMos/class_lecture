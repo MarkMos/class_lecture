{
 "cells": [
  {
   "cell_type": "markdown",
   "id": "edc36bf4",
   "metadata": {},
   "source": [
    "# Classy Fourier module\n",
    "\n",
    "First, import the packages as usual"
   ]
  },
  {
   "cell_type": "code",
   "execution_count": 1,
   "id": "a955d523",
   "metadata": {},
   "outputs": [],
   "source": [
    "import numpy as np\n",
    "import matplotlib.pyplot as plt\n",
    "from classy import Class\n",
    "\n",
    "plt.rcParams.update({\n",
    "    \"text.usetex\": True,\n",
    "    \"font.family\": \"serif\",\n",
    "})\n"
   ]
  },
  {
   "cell_type": "markdown",
   "id": "9d7c91a3",
   "metadata": {},
   "source": [
    "Once again, we are going to need to ask for a specific output"
   ]
  },
  {
   "cell_type": "code",
   "execution_count": null,
   "id": "d93cba6c",
   "metadata": {},
   "outputs": [],
   "source": [
    "cosmo = Class()\n",
    "cosmo.set({'perturbations_verbose':1,\n",
    "           'output':'mPk'})"
   ]
  }
 ],
 "metadata": {
  "kernelspec": {
   "display_name": "classy_clean",
   "language": "python",
   "name": "python3"
  },
  "language_info": {
   "codemirror_mode": {
    "name": "ipython",
    "version": 3
   },
   "file_extension": ".py",
   "mimetype": "text/x-python",
   "name": "python",
   "nbconvert_exporter": "python",
   "pygments_lexer": "ipython3",
   "version": "3.12.11"
  }
 },
 "nbformat": 4,
 "nbformat_minor": 5
}
