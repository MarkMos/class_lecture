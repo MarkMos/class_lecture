{
 "cells": [
  {
   "cell_type": "markdown",
   "id": "0bfb1073",
   "metadata": {},
   "source": [
    "# Classy background module\n",
    "\n",
    "Start by importing packages to be used"
   ]
  },
  {
   "cell_type": "code",
   "execution_count": 17,
   "id": "7c6a7563",
   "metadata": {},
   "outputs": [],
   "source": [
    "import numpy as np\n",
    "import matplotlib.pyplot as plt\n",
    "from classy import Class\n",
    "\n",
    "plt.rcParams.update({\n",
    "    \"text.usetex\": True,\n",
    "    \"font.family\": \"serif\",\n",
    "})\n"
   ]
  },
  {
   "cell_type": "markdown",
   "id": "c58eb4a6",
   "metadata": {},
   "source": [
    "Define our instance of Class from classy, conventionally named \"cosmo\". Each Instance will store a single cosmology at a given time."
   ]
  },
  {
   "cell_type": "code",
   "execution_count": null,
   "id": "29c2dc0c",
   "metadata": {},
   "outputs": [],
   "source": [
    "# Initialise the Class instance\n",
    "cosmo = Class()"
   ]
  },
  {
   "cell_type": "markdown",
   "id": "ca35ce40",
   "metadata": {},
   "source": [
    "Each instance of Class is initialised with the default values for all cosmological parameters, and is ready to compute.\n",
    "\n",
    "When asking the wrapper for output, the cosmology will automatically be computed up to the necessary module to produce this output, here we are asking for the background"
   ]
  },
  {
   "cell_type": "code",
   "execution_count": null,
   "id": "545facf5",
   "metadata": {},
   "outputs": [
    {
     "name": "stdout",
     "output_type": "stream",
     "text": [
      "dict_keys(['z', 'proper time [Gyr]', 'conf. time [Mpc]', 'H [1/Mpc]', 'comov. dist.', 'ang.diam.dist.', 'lum. dist.', 'comov.snd.hrz.', '(.)rho_g', '(.)rho_b', '(.)rho_cdm', '(.)rho_lambda', '(.)rho_ur', '(.)rho_crit', '(.)rho_tot', '(.)p_tot', '(.)p_tot_prime', 'gr.fac. D', 'gr.fac. f'])\n"
     ]
    }
   ],
   "source": [
    "# Exctract dictionary of background quantities\n",
    "bg = cosmo.get_background()\n",
    "\n",
    "# Print its keys: these are the contents of the dictionary\n",
    "print(bg.keys())"
   ]
  },
  {
   "cell_type": "code",
   "execution_count": null,
   "id": "fd6a9216",
   "metadata": {},
   "outputs": [],
   "source": [
    "# Here I define a few quantities from the dictionary\n",
    "z = bg['z']\n",
    "rho_cdm = bg['(.)rho_cdm']\n",
    "rho_crit = bg['(.)rho_crit']\n",
    "\n",
    "# Now use the same syntax to define the baryon and photon energy densities\n",
    "# rho_b = ???\n",
    "# rho_phot = ???"
   ]
  },
  {
   "cell_type": "code",
   "execution_count": null,
   "id": "573a52e7",
   "metadata": {},
   "outputs": [
    {
     "data": {
      "text/plain": [
       "Text(0, 0.5, '$ \\\\frac{8\\\\pi G}{3}\\\\rho_i$ [Mpc$^{-2}$]')"
      ]
     },
     "execution_count": 22,
     "metadata": {},
     "output_type": "execute_result"
    },
    {
     "data": {
      "image/png": "[encoded data removed]",
      "text/plain": [
       "<Figure size 640x480 with 1 Axes>"
      ]
     },
     "metadata": {},
     "output_type": "display_data"
    }
   ],
   "source": [
    "plt.loglog(z,rho_cdm,label='CDM')\n",
    "plt.loglog(z,rho_crit,label='Crit.')\n",
    "\n",
    "# Uncomment these lines when you have correctly set the quantities to plot\n",
    "\n",
    "# plt.loglog(z,rho_phot,label='Photons')\n",
    "# plt.loglog(z,rho_lambda,label='$\\Lambda$')\n",
    "\n",
    "plt.legend()\n",
    "\n",
    "plt.xlabel('$z$')\n",
    "plt.ylabel('$ \\\\frac{8\\\\pi G}{3}\\\\rho_i$ [Mpc$^{-2}$]')"
   ]
  },
  {
   "cell_type": "markdown",
   "id": "33f96261",
   "metadata": {},
   "source": [
    "Let's define an identical cosmology, except with 50% more baryonic matter."
   ]
  },
  {
   "cell_type": "code",
   "execution_count": 32,
   "id": "53db5c10",
   "metadata": {},
   "outputs": [
    {
     "data": {
      "text/plain": [
       "True"
      ]
     },
     "execution_count": 32,
     "metadata": {},
     "output_type": "execute_result"
    }
   ],
   "source": [
    "# Define new Class instance\n",
    "cosmo_extra_baryons = Class()\n",
    "\n",
    "#set omega_b parameter\n",
    "cosmo_extra_baryons.set({'omega_b':cosmo.omega_b()*1.5})"
   ]
  },
  {
   "cell_type": "code",
   "execution_count": 33,
   "id": "a807bdef",
   "metadata": {},
   "outputs": [
    {
     "data": {
      "text/plain": [
       "0.9788812637149618"
      ]
     },
     "execution_count": 33,
     "metadata": {},
     "output_type": "execute_result"
    }
   ],
   "source": [
    "cosmo_extra_baryons.age()/cosmo.age()"
   ]
  },
  {
   "cell_type": "code",
   "execution_count": null,
   "id": "3764c581",
   "metadata": {},
   "outputs": [],
   "source": []
  }
 ],
 "metadata": {
  "kernelspec": {
   "display_name": "classy_clean",
   "language": "python",
   "name": "python3"
  },
  "language_info": {
   "codemirror_mode": {
    "name": "ipython",
    "version": 3
   },
   "file_extension": ".py",
   "mimetype": "text/x-python",
   "name": "python",
   "nbconvert_exporter": "python",
   "pygments_lexer": "ipython3",
   "version": "3.12.11"
  }
 },
 "nbformat": 4,
 "nbformat_minor": 5
}
