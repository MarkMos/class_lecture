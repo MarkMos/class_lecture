{
 "cells": [
  {
   "cell_type": "markdown",
   "id": "0bfb1073",
   "metadata": {},
   "source": [
    "# Classy background module\n",
    "\n",
    "Start by importing packages to be used"
   ]
  },
  {
   "cell_type": "code",
   "execution_count": null,
   "id": "7c6a7563",
   "metadata": {},
   "outputs": [],
   "source": [
    "import numpy as np\n",
    "import matplotlib.pyplot as plt\n",
    "from classy import Class\n",
    "\n",
    "plt.rcParams.update({\n",
    "    \"text.usetex\": True,\n",
    "    \"font.family\": \"serif\",\n",
    "})\n"
   ]
  },
  {
   "cell_type": "markdown",
   "id": "c58eb4a6",
   "metadata": {},
   "source": [
    "Define our instance of Class from classy, conventionally named \"cosmo\". Each Instance will store a single cosmology at a given time."
   ]
  },
  {
   "cell_type": "code",
   "execution_count": null,
   "id": "29c2dc0c",
   "metadata": {},
   "outputs": [],
   "source": [
    "# Initialise the Class instance\n",
    "cosmo = Class()"
   ]
  },
  {
   "cell_type": "markdown",
   "id": "ca35ce40",
   "metadata": {},
   "source": [
    "Each instance of Class is initialised with the default values for all cosmological parameters, and is ready to compute.\n",
    "\n",
    "When asking the wrapper for output, the cosmology will automatically be computed up to the necessary module to produce this output, here we are asking for the background"
   ]
  },
  {
   "cell_type": "code",
   "execution_count": null,
   "id": "545facf5",
   "metadata": {},
   "outputs": [],
   "source": [
    "# Exctract dictionary of background quantities\n",
    "bg = cosmo.get_background()\n",
    "\n",
    "# Print its keys: these are the contents of the dictionary\n",
    "print(bg.keys())"
   ]
  },
  {
   "cell_type": "code",
   "execution_count": null,
   "id": "fd6a9216",
   "metadata": {},
   "outputs": [],
   "source": [
    "# Here I define a few quantities from the dictionary\n",
    "z = bg['z']\n",
    "rho_cdm = bg['(.)rho_cdm']\n",
    "rho_crit = bg['(.)rho_crit']\n",
    "\n",
    "# Now use the same syntax to define the baryon, Lambda, and photon energy densities\n",
    "# rho_b = \n",
    "# rho_phot = \n",
    "# rho_lambda = "
   ]
  },
  {
   "cell_type": "code",
   "execution_count": null,
   "id": "573a52e7",
   "metadata": {},
   "outputs": [],
   "source": [
    "plt.loglog(z,rho_cdm,label='CDM')\n",
    "\n",
    "# Uncomment these lines when you have correctly set the quantities to plot\n",
    "\n",
    "# plt.loglog(z,rho_phot,label='Photons')\n",
    "# plt.loglog(z,rho_b,label='Baryons')\n",
    "# plt.loglog(z,rho_lambda,label='$\\\\Lambda$')\n",
    "\n",
    "\n",
    "plt.loglog(z,rho_crit,'k--',label='Crit.')\n",
    "\n",
    "plt.legend()\n",
    "\n",
    "plt.xlabel('$z$')\n",
    "plt.ylabel('$ \\\\frac{8\\\\pi G}{3}\\\\rho_i$ [Mpc$^{-2}$]')"
   ]
  },
  {
   "cell_type": "markdown",
   "id": "33f96261",
   "metadata": {},
   "source": [
    "Let's define an identical cosmology, except with 50% more baryonic matter."
   ]
  },
  {
   "cell_type": "code",
   "execution_count": null,
   "id": "53db5c10",
   "metadata": {},
   "outputs": [],
   "source": [
    "# Define new Class instance\n",
    "cosmo_extra_baryons = Class()\n",
    "\n",
    "#set omega_b parameter\n",
    "cosmo_extra_baryons.set({'Omega_b':cosmo.Omega_b()*1.5})"
   ]
  },
  {
   "cell_type": "code",
   "execution_count": null,
   "id": "a807bdef",
   "metadata": {},
   "outputs": [],
   "source": [
    "cosmo_extra_baryons.age()/cosmo.age()"
   ]
  },
  {
   "cell_type": "markdown",
   "id": "7dca60ad",
   "metadata": {},
   "source": [
    "And another one, which has increased dark matter density instead of baryonic."
   ]
  },
  {
   "cell_type": "code",
   "execution_count": null,
   "id": "3764c581",
   "metadata": {},
   "outputs": [],
   "source": [
    "# Define new Class instance\n",
    "cosmo_extra_dm = Class()\n",
    "\n",
    "#set omega_b parameter\n",
    "cosmo_extra_dm.set({'Omega_cdm':cosmo.Omega0_cdm()*1.5})"
   ]
  },
  {
   "cell_type": "code",
   "execution_count": null,
   "id": "3f3c83e0",
   "metadata": {},
   "outputs": [],
   "source": [
    "# Get the density of massless neutrinos, as they contribute to the radiation density\n",
    "rho_ur = bg['(.)rho_ur']\n",
    "\n",
    "# Let's also get the redshift of matter-radiation equality\n",
    "z_eq = cosmo.z_eq()\n",
    "\n",
    "# rho_cdm_extra_dm = \n",
    "# rho_crit_extra_dm = \n",
    "\n",
    "# z_eq_extra_dm = \n",
    "# rho_cdm_extra_dm = "
   ]
  },
  {
   "cell_type": "markdown",
   "id": "4a74e73a",
   "metadata": {},
   "source": [
    "Lets do another plot, showing explicitly the times of matter/radiation equality for the standard and extra DM cosmologies"
   ]
  },
  {
   "cell_type": "code",
   "execution_count": null,
   "id": "3faf6258",
   "metadata": {},
   "outputs": [],
   "source": [
    "plt.loglog(z,(rho_cdm+rho_b)/rho_crit,color='navy',label='Matter (standard)')\n",
    "# plt.loglog(z,rho_crit,label='Crit.')\n",
    "\n",
    "# Uncomment these lines when you have correctly set the quantities to plot\n",
    "\n",
    "# plt.loglog(z,(rho_phot+rho_ur)/rho_crit,color='violet',label='Radiation')\n",
    "\n",
    "# plt.loglog(z,(rho_phot+rho_ur)/rho_crit_extra_dm,'--',color='violet',label='Radiation (extra DM)')\n",
    "\n",
    "# plt.loglog(z,(rho_cdm_extra_dm+rho_b)/rho_crit_extra_dm,'--',color='navy',label='Matter (extra DM)')\n",
    "\n",
    "plt.axvline(z_eq,color='0.3',linestyle='-',label='$z_{\\\\mathrm{eq}}$ (standard)')\n",
    "# plt.axvline(z_eq_extra_dm,color='0.3',linestyle='--',label='$z_{\\\\mathrm{eq}}$ (extra DM)')\n",
    "\n",
    "\n",
    "plt.legend()\n",
    "\n",
    "plt.xlim([8e1,1.5e5])\n",
    "plt.ylim([8e-3,1.2])\n",
    "\n",
    "plt.xlabel('$z$')\n",
    "plt.ylabel('$ \\\\frac{8\\\\pi G}{3}\\\\rho_i$ [Mpc$^{-2}$]')"
   ]
  },
  {
   "cell_type": "markdown",
   "id": "d2f80f0b",
   "metadata": {},
   "source": [
    "Let's now define a cosmology with a single massive neutrino species:"
   ]
  },
  {
   "cell_type": "code",
   "execution_count": null,
   "id": "11b792f1",
   "metadata": {},
   "outputs": [],
   "source": [
    "cosmo_mnu = Class()\n",
    "cosmo_mnu.set({'N_ncdm':1, 'm_ncdm':0.1, 'Neff':3.044})\n",
    "bg_mnu = cosmo_mnu.get_background()\n",
    "print(bg_mnu.keys())"
   ]
  },
  {
   "cell_type": "markdown",
   "id": "b91361ad",
   "metadata": {},
   "source": [
    "From the quantities of the background array, let's plot the massive neutrino equation-of-state parameter\n",
    "\n",
    "\\begin{equation} w_\\text{ncdm} = p_\\text{ncdm} / \\rho_\\text{ncdm} \\end{equation}"
   ]
  },
  {
   "cell_type": "code",
   "execution_count": null,
   "id": "fcf9a2e7",
   "metadata": {},
   "outputs": [],
   "source": [
    "# p_ncdm = \n",
    "# rho_ncdm = \n",
    "\n",
    "# plt.loglog(z,p_ncdm/rho_ncdm,'k')\n",
    "\n",
    "plt.xlabel('$z$')\n",
    "plt.ylabel('$w_\\\\mathrm{ncdm}$')"
   ]
  },
  {
   "cell_type": "markdown",
   "id": "4afafe01",
   "metadata": {},
   "source": [
    "Another important result from the background model is cosmological distances. \n",
    "\n",
    "Let's compare a simple $\\Lambda$+CDM universe with an Einstein-de Sitter (only matter)."
   ]
  },
  {
   "cell_type": "code",
   "execution_count": null,
   "id": "2b63e46b",
   "metadata": {},
   "outputs": [],
   "source": [
    "#Lambda CDM\n",
    "LCDM = Class()\n",
    "LCDM.set({'Omega_cdm':0.25,'Omega_b':0.05})\n",
    "\n",
    "#Einstein-de Sitter\n",
    "CDM = Class()\n",
    "CDM.set({'Omega_cdm':0.95,'Omega_b':0.05})\n",
    "\n",
    "bg_LCDM = LCDM.get_background()\n",
    "bg_CDM = CDM.get_background()"
   ]
  },
  {
   "cell_type": "markdown",
   "id": "5bb967fd",
   "metadata": {},
   "source": [
    "Note that this will not be \"exact\" EdS, as we have neglected radiation. From assuming flatness, CLASS will add a tiny negative cosmological constant $\\Omega_\\Lambda = - \\Omega_{r,0}$."
   ]
  },
  {
   "cell_type": "markdown",
   "id": "a5a0f1af",
   "metadata": {},
   "source": [
    "Let's now define our three different distances (luminosity, comoving, and angular diameter) for the cosmologies, you can print the keys again or scroll up and look to find the exact format to use."
   ]
  },
  {
   "cell_type": "code",
   "execution_count": null,
   "id": "f301f795",
   "metadata": {},
   "outputs": [],
   "source": [
    "lum_dist_LCDM = bg_LCDM['lum. dist.']\n",
    "com_dist_LCDM = bg_LCDM['comov. dist.']\n",
    "ang_dist_LCDM = bg_LCDM['ang.diam.dist.']\n",
    "\n",
    "# lum_dist_CDM = \n",
    "# com_dist_CDM = \n",
    "# ang_dist_CDM ="
   ]
  },
  {
   "cell_type": "markdown",
   "id": "4532b7b8",
   "metadata": {},
   "source": [
    "We can reuse our $z$ array from our previous cosmology as they are identical in this case, however, this is not necessarily the case, so it is good practice to double check.\n",
    "\n",
    "We would also like to normalise the curves to the Hubble parameter today to make them dimensionless. Since we did not provide a value, Class should use the default value, but let's still confirm that they're identical."
   ]
  },
  {
   "cell_type": "code",
   "execution_count": null,
   "id": "63e4217d",
   "metadata": {},
   "outputs": [],
   "source": [
    "if np.all(bg_LCDM['z'] == bg['z']):\n",
    "    print('z array identical')\n",
    "\n",
    "if LCDM.Hubble(0) == CDM.Hubble(0):\n",
    "    print('H0 identical, defining H0')\n",
    "    H0 = LCDM.Hubble(0)"
   ]
  },
  {
   "cell_type": "markdown",
   "id": "f6550450",
   "metadata": {},
   "source": [
    "We are now ready to plot"
   ]
  },
  {
   "cell_type": "code",
   "execution_count": null,
   "id": "2190536e",
   "metadata": {},
   "outputs": [],
   "source": [
    "plt.loglog(z, lum_dist_LCDM*H0, color='0.2', label='Lum. dist. ($\\\\Lambda$CDM)')\n",
    "# plt.loglog(z, lum_dist_CDM*H0,'--', color='0.2', label='Lum. dist. (EdS)')\n",
    "\n",
    "plt.loglog(z, com_dist_LCDM*H0, color='0.5', label='Comov. dist.($\\\\Lambda$CDM)')\n",
    "# plt.loglog(z, com_dist_CDM*H0,'--', color='0.5', label='Comov. dist.(EdS)')\n",
    "\n",
    "plt.loglog(z, ang_dist_LCDM*H0, color='0.8', label='Ang.diam. dist. ($\\\\Lambda$CDM)')\n",
    "# plt.loglog(z, ang_dist_CDM*H0,'--', color='0.8', label='Ang.diam. dist. (EdS)')\n",
    "\n",
    "plt.xlim([0.07, 10])\n",
    "plt.ylim([0.08, 20])\n",
    "\n",
    "plt.xlabel(\"$z$\")\n",
    "plt.ylabel(\"$\\\\mathrm{Distance}\\\\times H_0$\")\n",
    "\n",
    "plt.legend()"
   ]
  },
  {
   "cell_type": "markdown",
   "id": "b464fedd",
   "metadata": {},
   "source": [
    "In addition to the background array obtained with `get_background`, the classy wrapper can also automatically interpolate and return values at desired reshifts, similarly to what we used to get $H_0$ with the `Hubble(z)` function.\n",
    "\n",
    "A full list is available online in the readthedocs documentation [here](https://class-code.readthedocs.io/en/latest/wrapper_bg.html), but some important examples are:\n",
    "`comoving_distance(z)`\n",
    "\n",
    "`luminosity_distance(z)`\n",
    "\n",
    "`angular_distance(z)`\n",
    "\n",
    "`angular_distance_from_to(z1, z2)`"
   ]
  }
 ],
 "metadata": {
  "kernelspec": {
   "display_name": "classy_clean",
   "language": "python",
   "name": "python3"
  },
  "language_info": {
   "codemirror_mode": {
    "name": "ipython",
    "version": 3
   },
   "file_extension": ".py",
   "mimetype": "text/x-python",
   "name": "python",
   "nbconvert_exporter": "python",
   "pygments_lexer": "ipython3",
   "version": "3.12.11"
  }
 },
 "nbformat": 4,
 "nbformat_minor": 5
}
