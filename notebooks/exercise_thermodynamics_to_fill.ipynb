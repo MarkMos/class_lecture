{
 "cells": [
  {
   "cell_type": "markdown",
   "id": "88ddf8d2",
   "metadata": {},
   "source": [
    "# Classy Thermodynamics module\n",
    "\n",
    "Again, we import the necessary packages"
   ]
  },
  {
   "cell_type": "code",
   "execution_count": null,
   "id": "6141a583",
   "metadata": {},
   "outputs": [],
   "source": [
    "import numpy as np\n",
    "import matplotlib.pyplot as plt\n",
    "from classy import Class\n",
    "\n",
    "plt.rcParams.update({\n",
    "    \"text.usetex\": True,\n",
    "    \"font.family\": \"serif\",\n",
    "})\n"
   ]
  },
  {
   "cell_type": "markdown",
   "id": "55275233",
   "metadata": {},
   "source": [
    "Let's start with something simple and plot the ionization history, and the visibility function. First we define our cosmology and get the thermodynamics array.\n",
    "\n",
    "Increasing the verbosity of the Thermodynamics module will give us some information on its results immediately."
   ]
  },
  {
   "cell_type": "code",
   "execution_count": null,
   "id": "ff890c2f",
   "metadata": {},
   "outputs": [],
   "source": [
    "cosmo = Class()\n",
    "cosmo.set({'thermodynamics_verbose':1})\n",
    "th = cosmo.get_thermodynamics()"
   ]
  },
  {
   "cell_type": "markdown",
   "id": "08d8f74d",
   "metadata": {},
   "source": [
    "We can also extract some of this information as so-called \"derived parameters\" - these are single-value parameters to describe the results rather than arrays of data. Examples are e.g. the conformal time of reionization and recombination, as presented here. A full list is available onlinine in the [readthedocs documentation](https://class-code.readthedocs.io/en/latest/wrapper_params.html#parameters)."
   ]
  },
  {
   "cell_type": "code",
   "execution_count": null,
   "id": "757ee27d",
   "metadata": {},
   "outputs": [],
   "source": [
    "der=cosmo.get_current_derived_parameters(['tau_rec','conf_time_reio'])"
   ]
  },
  {
   "cell_type": "markdown",
   "id": "f18d46e1",
   "metadata": {},
   "source": [
    "To get the exact syntax for the thermodynamics array dictionary, we can once again print the keys."
   ]
  },
  {
   "cell_type": "code",
   "execution_count": null,
   "id": "750dddeb",
   "metadata": {},
   "outputs": [],
   "source": [
    "print(th.keys())"
   ]
  },
  {
   "cell_type": "markdown",
   "id": "a04ced1c",
   "metadata": {},
   "source": [
    "We can then easily plot the ionization history of the universe, $x_e (z)$. Let's explicitly add the times of recombination and reionization as well.\n",
    "\n",
    "Since these are given in terms of conformal time in the `der` dictionary we defined, they need to be converted to redshifts for this plot, which is easily done with the `z_of_tau` function."
   ]
  },
  {
   "cell_type": "code",
   "execution_count": null,
   "id": "556ad994",
   "metadata": {},
   "outputs": [],
   "source": [
    "z = th['z']\n",
    "# x_e = \n",
    "\n",
    "# plt.semilogx(z,x_e,'k')\n",
    "\n",
    "z_rec = cosmo.z_of_tau(der['tau_rec'])\n",
    "# z_reio = \n",
    "\n",
    "plt.axvline(z_rec,color='r',linestyle='--',label='Recombination')\n",
    "# plt.axvline(z_reio,color='r',linestyle=':',label='Reionization')\n",
    "\n",
    "plt.legend()\n",
    "\n",
    "plt.xlabel('$z$')\n",
    "plt.ylabel('$x_e$')"
   ]
  },
  {
   "cell_type": "markdown",
   "id": "fc38605b",
   "metadata": {},
   "source": [
    "We can also easily plot the visibility function $g(z)$, which tells us how many photons we expect to see in the CMB from any given redshift."
   ]
  },
  {
   "cell_type": "code",
   "execution_count": null,
   "id": "5fc42645",
   "metadata": {},
   "outputs": [],
   "source": [
    "# g = \n",
    "\n",
    "# plt.loglog(z,g, 'k')\n",
    "\n",
    "plt.axvline(z_rec,color='r',linestyle='--',label='Recombination')\n",
    "# plt.axvline(z_reio,color='r',linestyle=':',label='Reionization')\n",
    "\n",
    "plt.legend()\n",
    "\n",
    "plt.ylim([1e-10,0.05])\n",
    "plt.xlim([0.02,8e3])\n",
    "\n",
    "plt.xlabel('$z$')\n",
    "plt.ylabel('$g$ [Mpc$^-1$]')"
   ]
  },
  {
   "cell_type": "markdown",
   "id": "c1137736",
   "metadata": {},
   "source": [
    "It is very clear that the recombination peak is orders of magnitude larger than anything else, and that we receive essentially no pre-recombination photons.\n",
    "\n",
    "However, it can also be seen that despite us denoting these events with a single redshift $z_\\text{rec}$ or $z_\\text{reio}$, they are not instantaneous processes."
   ]
  },
  {
   "cell_type": "markdown",
   "id": "56c255df",
   "metadata": {},
   "source": [
    "Let's now look at a more exotic cosmology as well, and introduce an interaction between baryons and the dark matter. In addition to coupling their perturbation equations (as we will see in a later exercise), this will affect the thermal history of the baryons and the dark matter.\n",
    "\n",
    "For our example here, let us look at 90% of the DM interacting through a Coulomb-like interaction (meaning $n=-4$) with a dark matter mass of 1 MeV and a cross section $\\sigma_\\text{b-DM} = 10^{-40}$ $\\text{cm}^{2}$."
   ]
  },
  {
   "cell_type": "code",
   "execution_count": null,
   "id": "58f84433",
   "metadata": {},
   "outputs": [],
   "source": [
    "cosmo_int = Class()\n",
    "cosmo_int.set({'f_idm':0.9, \n",
    "               'm_idm':1e6, \n",
    "               'cross_idm_b':1e-40, \n",
    "               'n_index_idm_b': -4,\n",
    "               'thermodynamics_verbose':1})\n",
    "\n",
    "th_int = cosmo_int.get_thermodynamics()"
   ]
  },
  {
   "cell_type": "markdown",
   "id": "4041a67d",
   "metadata": {},
   "source": [
    "Let's see how the inclusion of the interacting dark matter species has added new keys to the thermodynamics array dictinary."
   ]
  },
  {
   "cell_type": "code",
   "execution_count": null,
   "id": "feca04ee",
   "metadata": {},
   "outputs": [],
   "source": [
    "print(th_int.keys())"
   ]
  },
  {
   "cell_type": "markdown",
   "id": "a02e37a7",
   "metadata": {},
   "source": [
    "We can see that a temperature have been added for the interacting dark matter component (idm), since it is now necessary to track as it is coupled to the visible sector.\n",
    "\n",
    "Let's plot the baryon temperature evolution for both cosmologies, as well as the interacting DM temperature evolution, and the photon temperature. The latter can be extracted with `T_cmb()` and just multiplied by the redshift."
   ]
  },
  {
   "cell_type": "code",
   "execution_count": null,
   "id": "dee30ffb",
   "metadata": {},
   "outputs": [],
   "source": [
    "# As the DM-baryon interactions necessitate tracking the temperature back to an earlier time, \n",
    "# the thermodynamics array is automatically extended to higher redshifts. The z-array from our\n",
    "# standard cosmology can therefore no longer be used for both. As a rule of thumb, it it always good\n",
    "# to check that z arrays are identical before sharing them between cosmologies.\n",
    "\n",
    "\n",
    "z_int = th_int['z']\n",
    "\n",
    "Tcmb=cosmo.T_cmb()\n",
    "\n",
    "Tb = th['Tb [K]']\n",
    "# Tb_int =\n",
    "# Tdm_int = \n",
    "Tphot = Tcmb*(z_int+1)\n",
    "\n",
    "plt.axhline(Tcmb,color='0.5',linestyle=':',label='$T_\\\\mathrm{cmb}$ ($z=0$)')\n",
    "\n",
    "plt.loglog(z,Tb, 'k', label='$T_\\\\mathrm{b}$ (standard)')\n",
    "# plt.loglog(z_int,Tb_int, 'k--', label='$T_\\\\mathrm{b}$ (idm)')\n",
    "# plt.loglog(z_int,Tdm_int, 'r', label='$T_\\\\mathrm{dm}$ (idm)')\n",
    "plt.loglog(z_int,Tphot, 'r:', label='$T_\\\\gamma$')\n",
    "\n",
    "plt.legend()\n",
    "\n",
    "plt.xlim([0.05,1e8])\n",
    "\n",
    "plt.xlabel('$z$')\n",
    "plt.ylabel('$T$ [K]')"
   ]
  },
  {
   "cell_type": "markdown",
   "id": "1689a4bc",
   "metadata": {},
   "source": [
    "It is clear that the baryon temperature is driven by its strong coupling to photons at early times, until they decouple and the baryons have their own evolution.\n",
    "\n",
    "In the standard cosmology, the baryon temperature will then drop at $T\\propto a^{-2}$ as they are non-relativistic particles, while in the interacting DM cosmology, their coupling will mean that their temperatures equilibrate and $T_\\text{b}$ drops much quicker, before tracking the DM's $T\\propto a^{-2}$ until reionization."
   ]
  }
 ],
 "metadata": {
  "kernelspec": {
   "display_name": "classy_clean",
   "language": "python",
   "name": "python3"
  },
  "language_info": {
   "codemirror_mode": {
    "name": "ipython",
    "version": 3
   },
   "file_extension": ".py",
   "mimetype": "text/x-python",
   "name": "python",
   "nbconvert_exporter": "python",
   "pygments_lexer": "ipython3",
   "version": "3.12.11"
  }
 },
 "nbformat": 4,
 "nbformat_minor": 5
}
