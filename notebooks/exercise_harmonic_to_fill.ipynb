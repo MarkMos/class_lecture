{
 "cells": [
  {
   "cell_type": "markdown",
   "id": "e23c4157",
   "metadata": {},
   "source": [
    "# Classy Harmonic module\n",
    "\n",
    "Once again, we import our modules"
   ]
  },
  {
   "cell_type": "code",
   "execution_count": null,
   "id": "62d3f804",
   "metadata": {},
   "outputs": [],
   "source": [
    "import numpy as np\n",
    "import matplotlib.pyplot as plt\n",
    "from classy import Class\n",
    "\n",
    "plt.rcParams.update({\n",
    "    \"text.usetex\": True,\n",
    "    \"font.family\": \"serif\",\n",
    "})\n"
   ]
  },
  {
   "cell_type": "markdown",
   "id": "154332d9",
   "metadata": {},
   "source": [
    "To get the harmonic spectra, we will need to ask for them explicitly, similar to the $k$-space power spectra of the Fourier module"
   ]
  },
  {
   "cell_type": "code",
   "execution_count": null,
   "id": "c4a89305",
   "metadata": {},
   "outputs": [],
   "source": [
    "l_max_scalars = 5000\n",
    "l_max_lss = 1000\n",
    "\n",
    "\n",
    "cosmo = Class()\n",
    "cosmo.set({'perturbations_verbose':1,\n",
    "           'non_linear':'hmcode',\n",
    "           'output':'tCl,pCl,lCl,nCl,sCl',\n",
    "           'lensing':'yes',\n",
    "           'l_max_scalars':l_max_scalars,\n",
    "           'l_max_lss':l_max_lss})"
   ]
  },
  {
   "cell_type": "markdown",
   "id": "3ccbbf0f",
   "metadata": {},
   "source": [
    "Now we can extract the raw (unlensed) and lensed $C_\\ell$ dictionaries from Class"
   ]
  },
  {
   "cell_type": "code",
   "execution_count": null,
   "id": "8442f64e",
   "metadata": {},
   "outputs": [],
   "source": [
    "raw_Cl = cosmo.raw_cl(l_max_scalars)\n",
    "lensed_Cl = cosmo.lensed_cl(l_max_scalars)"
   ]
  },
  {
   "cell_type": "markdown",
   "id": "1005303a",
   "metadata": {},
   "source": [
    "Let's see what the dictionaries contain:\n"
   ]
  },
  {
   "cell_type": "code",
   "execution_count": null,
   "id": "f7e0c738",
   "metadata": {},
   "outputs": [],
   "source": [
    "print(f'Raw C_l keys: {raw_Cl.keys()}')\n",
    "print(f'Lensed C_l keys: {lensed_Cl.keys()}')"
   ]
  },
  {
   "cell_type": "markdown",
   "id": "f69cdafc",
   "metadata": {},
   "source": [
    "So the raw and lensed dictionaries contain the CMB angular power spectra, while density contains the galaxy number count and lensing spectra and cross-corellations between them.\n",
    "\n",
    "Let's plot some CMB spectra:"
   ]
  },
  {
   "cell_type": "code",
   "execution_count": null,
   "id": "3357fbbd",
   "metadata": {},
   "outputs": [],
   "source": [
    "l_cmb = raw_Cl['ell']\n",
    "\n",
    "lensed_TT = lensed_Cl['tt']\n",
    "# lensed_EE = \n",
    "# lensed_BB =\n",
    "\n",
    "\n",
    "plt.loglog(l_cmb, l_cmb*(l_cmb+1)*lensed_TT,'k',label='TT')\n",
    "# plt.loglog(l_cmb, l_cmb*(l_cmb+1)*lensed_EE,'r',label='EE')\n",
    "# plt.loglog(l_cmb, l_cmb*(l_cmb+1)*lensed_BB,'b',label='BB')\n",
    "plt.legend()\n",
    "plt.xlabel('$\\\\ell$')\n",
    "plt.ylabel('$ \\\\ell (\\\\ell + 1) C_\\\\ell$')\n",
    "\n",
    "plt.xlim([2,l_max_scalars])"
   ]
  },
  {
   "cell_type": "markdown",
   "id": "f5ba5927",
   "metadata": {},
   "source": [
    "Let's also look at the impact of lensing on the spectra:"
   ]
  },
  {
   "cell_type": "code",
   "execution_count": null,
   "id": "aa80fad3",
   "metadata": {},
   "outputs": [],
   "source": [
    "# raw_TT =\n",
    "# raw_EE = \n",
    "\n",
    "# plt.plot(l_cmb, lensed_TT / raw_TT -1,'k',label='TT')\n",
    "\n",
    "# plt.plot(l_cmb, lensed_EE / raw_EE -1,'r',label='EE')\n",
    "\n",
    "plt.legend()\n",
    "plt.xlim([2,l_max_scalars])\n",
    "\n",
    "plt.xlabel('$\\\\ell$')\n",
    "plt.ylabel('$C_{\\\\ell}^\\\\mathrm{lensed} / C_{\\\\ell}^\\\\mathrm{raw} - 1$')"
   ]
  },
  {
   "cell_type": "markdown",
   "id": "723ef737",
   "metadata": {},
   "source": [
    "It quickly becomes evident that, while lensing is always an important effect to take into account, its importance is much greater for recent CMB experiments like SPT and ACT, which go to significantly higher $\\ell$ than Planck or WMAP."
   ]
  },
  {
   "cell_type": "markdown",
   "id": "707e3b7e",
   "metadata": {},
   "source": [
    "The galaxy density and lensing spectra have a few more parameters governing them, which we left at their default values. This is because they are computed for specific redshift bins, each with a centre and a width.\n",
    "\n",
    "These parameters and their defaults are:\n",
    "- `selection = gaussian`, which gives the shape of the selection function $W(z)$ of each bin. The available options are `gaussian`, `tophat`, or `dirac`.\n",
    "- `selection_mean = 1` gives the bin centres to compute, provided as a list of $z$ values.\n",
    "- `selection_width = 0.1` gives the width of the bins, meaning the half-width of a tophat or the standard deviation of a Gaussian, also provided as a single value (for equal-width bins) or list of values in $z$ space.\n",
    "- `selection_bias = 1.0` and `selection_magnification_bias = 0`, are biases can can be provided as either a single global number, or as a list of a value per bin.\n",
    "- `non_diagonal = 0`, the number of cross-correlations between redshift bins computed. 0 means only auto-correlation, 1 means only adjacent bins, etc. up to $N_\\text{bins} -1$ meaning all correlations.\n",
    "- `dNddz_selection` lets you provide a selection function to multiply with the window function. Can be provided in the form of the filename of a text file containing tabulated redshifts and function values, or set to `analytic` to use the analytic expression of [arXiv:1004.4640](https://arxiv.org/abs/1004.4640). The default of leaving it blank means a uniform distribution function.\n",
    "- `dNdz_evolution` lets you provide an evolution of source number counts. Can similarly be provided as a file of tabulated values, or `analytic` to use the expression in eq. 48 of [arXiv:1105.5292](https://arxiv.org/abs/1105.5292). Again, the default of leaving it blank means constant comoving number densities.\n"
   ]
  },
  {
   "cell_type": "markdown",
   "id": "a0a4d5a3",
   "metadata": {},
   "source": [
    "Let's add some bins and widths to our cosmology:"
   ]
  },
  {
   "cell_type": "code",
   "execution_count": null,
   "id": "968aab6d",
   "metadata": {},
   "outputs": [],
   "source": [
    "cosmo.set({'selection_mean':'0.9,1.0,1.1',\n",
    "           'selection_width':0.1})"
   ]
  },
  {
   "cell_type": "code",
   "execution_count": null,
   "id": "0ef9e29a",
   "metadata": {},
   "outputs": [],
   "source": [
    "density_Cl = cosmo.density_cl(l_max_lss)\n",
    "print(f'Density C_l keys: {density_Cl.keys()}')"
   ]
  },
  {
   "cell_type": "markdown",
   "id": "ede20e92",
   "metadata": {},
   "source": [
    "Each dictionary entry here (except `'ell'`) is then another dictionary, containing each set of correlations, here just the autocorrelations of each of our three bins:"
   ]
  },
  {
   "cell_type": "code",
   "execution_count": null,
   "id": "70d041c3",
   "metadata": {},
   "outputs": [],
   "source": [
    "print(f'Density C_l[\"dd\"] keys: {density_Cl[\"dd\"].keys()}')"
   ]
  },
  {
   "cell_type": "markdown",
   "id": "fb4a4f64",
   "metadata": {},
   "source": [
    "Let's make a density $C_\\ell$ plot:"
   ]
  },
  {
   "cell_type": "code",
   "execution_count": null,
   "id": "dbdbbaa3",
   "metadata": {},
   "outputs": [],
   "source": [
    "l_density = density_Cl['ell']\n",
    "\n",
    "Cl_dd_z09 = density_Cl['dd']['dens[1]-dens[1]']\n",
    "# Cl_dd_z10 = \n",
    "# Cl_dd_z11 = \n",
    "\n",
    "\n",
    "plt.loglog(l_density,Cl_dd_z09,color='0.3',label='$z=0.9$')\n",
    "# plt.loglog(l_density,Cl_dd_z10,color='0.5',label='$z=1.0$')\n",
    "# plt.loglog(l_density,Cl_dd_z11,color='0.8',label='$z=1.1$')\n",
    "\n",
    "plt.legend()\n",
    "\n",
    "plt.xlim([2,l_max_lss])\n",
    "\n",
    "plt.xlabel('$\\\\ell$')\n",
    "plt.ylabel('$ \\\\frac{\\\\ell (\\\\ell + 1)}{2\\\\pi} C_\\\\ell^{dd} $')"
   ]
  },
  {
   "cell_type": "markdown",
   "id": "a365c4d7",
   "metadata": {},
   "source": [
    "And similarly for lensing:"
   ]
  },
  {
   "cell_type": "code",
   "execution_count": null,
   "id": "1387edd7",
   "metadata": {},
   "outputs": [],
   "source": [
    "Cl_ll_09 = density_Cl['ll']['lens[1]-lens[1]']\n",
    "# Cl_ll_10 = \n",
    "# Cl_ll_11 =\n",
    "\n",
    "plt.loglog(l_density,Cl_ll_09,color='0.3',label='$z=0.9$')\n",
    "# plt.loglog(l_density,Cl_ll_10,color='0.5',label='$z=1.0$')\n",
    "# plt.loglog(l_density,Cl_ll_11,color='0.8',label='$z=1.1$')\n",
    "\n",
    "plt.legend()\n",
    "\n",
    "plt.xlim([2,l_max_lss])\n",
    "\n",
    "plt.xlabel('$\\\\ell$')\n",
    "plt.ylabel('$ \\\\frac{\\\\ell (\\\\ell + 1)}{2\\\\pi} C_\\\\ell^{SS} $')"
   ]
  }
 ],
 "metadata": {
  "kernelspec": {
   "display_name": "classy_clean",
   "language": "python",
   "name": "python3"
  },
  "language_info": {
   "codemirror_mode": {
    "name": "ipython",
    "version": 3
   },
   "file_extension": ".py",
   "mimetype": "text/x-python",
   "name": "python",
   "nbconvert_exporter": "python",
   "pygments_lexer": "ipython3",
   "version": "3.12.11"
  }
 },
 "nbformat": 4,
 "nbformat_minor": 5
}
